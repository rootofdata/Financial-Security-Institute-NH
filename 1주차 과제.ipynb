{
 "cells": [
  {
   "cell_type": "code",
   "execution_count": 1,
   "source": [
    "#Question 1\r\n",
    "import sys\r\n",
    "print(sys.version)"
   ],
   "outputs": [
    {
     "output_type": "stream",
     "name": "stdout",
     "text": [
      "3.8.8 (default, Apr 13 2021, 15:08:03) [MSC v.1916 64 bit (AMD64)]\n"
     ]
    }
   ],
   "metadata": {}
  },
  {
   "cell_type": "code",
   "execution_count": 3,
   "source": [
    "import FinanceDataReader as fdr \r\n",
    "import matplotlib.pyplot as plt"
   ],
   "outputs": [],
   "metadata": {}
  },
  {
   "cell_type": "code",
   "execution_count": 4,
   "source": [
    "#Question 2 확인d+\r\n",
    "df=fdr.DataReader('BTC/USD','2016-01-01','2016-12-31')\r\n",
    "df.head()"
   ],
   "outputs": [
    {
     "output_type": "execute_result",
     "data": {
      "text/plain": [
       "            Close   Open   High    Low   Volume  Change\n",
       "Date                                                   \n",
       "2016-01-01  434.0  430.0  438.0  425.9  46970.0  0.0094\n",
       "2016-01-02  433.7  434.0  437.4  430.7  33570.0 -0.0006\n",
       "2016-01-03  430.7  433.7  434.1  423.1  54830.0 -0.0070\n",
       "2016-01-04  433.3  430.7  435.3  428.6  53010.0  0.0061\n",
       "2016-01-05  431.2  433.3  435.3  428.9  45030.0 -0.0049"
      ],
      "text/html": [
       "<div>\n",
       "<style scoped>\n",
       "    .dataframe tbody tr th:only-of-type {\n",
       "        vertical-align: middle;\n",
       "    }\n",
       "\n",
       "    .dataframe tbody tr th {\n",
       "        vertical-align: top;\n",
       "    }\n",
       "\n",
       "    .dataframe thead th {\n",
       "        text-align: right;\n",
       "    }\n",
       "</style>\n",
       "<table border=\"1\" class=\"dataframe\">\n",
       "  <thead>\n",
       "    <tr style=\"text-align: right;\">\n",
       "      <th></th>\n",
       "      <th>Close</th>\n",
       "      <th>Open</th>\n",
       "      <th>High</th>\n",
       "      <th>Low</th>\n",
       "      <th>Volume</th>\n",
       "      <th>Change</th>\n",
       "    </tr>\n",
       "    <tr>\n",
       "      <th>Date</th>\n",
       "      <th></th>\n",
       "      <th></th>\n",
       "      <th></th>\n",
       "      <th></th>\n",
       "      <th></th>\n",
       "      <th></th>\n",
       "    </tr>\n",
       "  </thead>\n",
       "  <tbody>\n",
       "    <tr>\n",
       "      <th>2016-01-01</th>\n",
       "      <td>434.0</td>\n",
       "      <td>430.0</td>\n",
       "      <td>438.0</td>\n",
       "      <td>425.9</td>\n",
       "      <td>46970.0</td>\n",
       "      <td>0.0094</td>\n",
       "    </tr>\n",
       "    <tr>\n",
       "      <th>2016-01-02</th>\n",
       "      <td>433.7</td>\n",
       "      <td>434.0</td>\n",
       "      <td>437.4</td>\n",
       "      <td>430.7</td>\n",
       "      <td>33570.0</td>\n",
       "      <td>-0.0006</td>\n",
       "    </tr>\n",
       "    <tr>\n",
       "      <th>2016-01-03</th>\n",
       "      <td>430.7</td>\n",
       "      <td>433.7</td>\n",
       "      <td>434.1</td>\n",
       "      <td>423.1</td>\n",
       "      <td>54830.0</td>\n",
       "      <td>-0.0070</td>\n",
       "    </tr>\n",
       "    <tr>\n",
       "      <th>2016-01-04</th>\n",
       "      <td>433.3</td>\n",
       "      <td>430.7</td>\n",
       "      <td>435.3</td>\n",
       "      <td>428.6</td>\n",
       "      <td>53010.0</td>\n",
       "      <td>0.0061</td>\n",
       "    </tr>\n",
       "    <tr>\n",
       "      <th>2016-01-05</th>\n",
       "      <td>431.2</td>\n",
       "      <td>433.3</td>\n",
       "      <td>435.3</td>\n",
       "      <td>428.9</td>\n",
       "      <td>45030.0</td>\n",
       "      <td>-0.0049</td>\n",
       "    </tr>\n",
       "  </tbody>\n",
       "</table>\n",
       "</div>"
      ]
     },
     "metadata": {},
     "execution_count": 4
    }
   ],
   "metadata": {}
  },
  {
   "cell_type": "code",
   "execution_count": 21,
   "source": [
    "def K_premium():\r\n",
    "    coin_name = input('암호화폐 기호를 입력해주세요: ') # 기호는 BTC(비트코인) 등이 있습니다.\r\n",
    "    year = input('관심 연도를 입력해주세요: ')\r\n",
    "    # df1,2,3 순서대로 국내거래소 정보, 해외거래소 정보, 환율 정보\r\n",
    "    df1 = fdr.DataReader(coin_name + '/' + 'KRW', year + '-01-01',year + '-12-31')\r\n",
    "    df2 = fdr.DataReader(coin_name + '/' + 'USD', year + '-01-01',year + '-12-31')\r\n",
    "    df3 = fdr.DataReader('KRW/USD', year + '-01-01', year + '-12-31')\r\n",
    "  \r\n",
    "    # 일별 종가 값만 고려합니다.\r\n",
    "    sell = df1['Close'] #매도\r\n",
    "    buy = df2['Close']  #매수\r\n",
    "    exchange_rate = df3['Close']\r\n",
    "    \r\n",
    "    K_premium = (sell/(buy/exchange_rate)-1)*100 # sell, buy, exchange rate을 이용\r\n",
    "    \r\n",
    "    print('==============================================')\r\n",
    "    print(f'{year}년도 {coin_name}의 요약 정보입니다.') # format 함수 이용\r\n",
    "    print('(단위: %)')\r\n",
    "    print('==============================================')\r\n",
    "    print(f'평균: {K_premium.mean()}') # mean, format 함수 이용\r\n",
    "    print(f'최댓값: {K_premium.max()}') # max, format 함수 이용\r\n",
    "    print(f'최소값: {K_premium.min()}') # min, format 함수 이용\r\n",
    "    print(f'표준편차:{K_premium.std()}') # std, format 함수 이용\r\n",
    "    print('==============================================')\r\n",
    "\r\n",
    "    plt.plot(K_premium)\r\n",
    "    plt.show()  \r\n"
   ],
   "outputs": [],
   "metadata": {}
  },
  {
   "cell_type": "code",
   "execution_count": 22,
   "source": [
    "K_premium()"
   ],
   "outputs": [
    {
     "output_type": "stream",
     "name": "stdout",
     "text": [
      "==============================================\n",
      "2018년도 ETH의 요약 정보입니다.\n",
      "(단위: %)\n",
      "==============================================\n",
      "평균: 2.055666535921385\n",
      "최댓값: 31.67083516236715\n",
      "최소값: -4.036567360394794\n",
      "표준편차:3.756558676514335\n",
      "==============================================\n"
     ]
    },
    {
     "output_type": "display_data",
     "data": {
      "text/plain": [
       "<Figure size 432x288 with 1 Axes>"
      ],
      "image/png": "[encoded data removed]"
     },
     "metadata": {
      "needs_background": "light"
     }
    }
   ],
   "metadata": {}
  },
  {
   "cell_type": "code",
   "execution_count": 26,
   "source": [
    "#Question 3\r\n",
    "def maxProfit(prices):     # maxProfit 함수의 input으로는 prices 변수가 들어갑니다.\r\n",
    "\tmax_profit = 0           # max_profit 변수의 값을 초기화합니다.\r\n",
    "\tmin_price=min(prices)\r\n",
    "\tmin_idx=prices.index(min_price)\r\n",
    "\tmax_price=max(prices[min_idx:])\r\n",
    "\tif max_price>min_price:\r\n",
    "    \t\treturn max_price-min_price\r\n",
    "\telse:\r\n",
    "\t\treturn 0  \r\n",
    "\r\n",
    "p = [7000, 1000, 5000, 3000, 6000, 4000]\r\n",
    "print(maxProfit(p))\r\n",
    "prices = [7000, 6000, 4000, 3000, 1000]\r\n",
    "print(maxProfit(prices))"
   ],
   "outputs": [
    {
     "output_type": "stream",
     "name": "stdout",
     "text": [
      "5000\n",
      "0\n"
     ]
    }
   ],
   "metadata": {}
  },
  {
   "cell_type": "code",
   "execution_count": 31,
   "source": [
    "#Question 4\r\n",
    "#1\r\n",
    "T = 10 #10기간을 의미합니다\r\n",
    "r = 0.12 #이자율을 의미합니다\r\n",
    "P = [0,100,200,300,400,300,200,100,50,50,100] #시기별 현금 흐름을 의미합니다\r\n",
    "pv=0\r\n",
    "for i in range(T):\r\n",
    "    pv= pv+(P[i]/(1+r)**i)\r\n",
    "print(pv)"
   ],
   "outputs": [
    {
     "output_type": "stream",
     "name": "stdout",
     "text": [
      "1071.4796606346547\n"
     ]
    }
   ],
   "metadata": {}
  },
  {
   "cell_type": "code",
   "execution_count": 14,
   "source": [
    "#2\r\n",
    "#성장률\r\n",
    "import numpy as np\r\n",
    "mu = 0.01\r\n",
    "sigma = 0.003\r\n",
    "g = np.random.normal(mu, sigma, 100)\r\n",
    "#배당\r\n",
    "D0 = np.random.randint(low = 80, high = 2000)\r\n",
    "#현재 시점의 배당은 80~2000 사이에서 random하게 정해질 것입니다.\r\n",
    "\r\n",
    "#이자율\r\n",
    "mu = 0.1\r\n",
    "sigma = 0.0005\r\n",
    "r = np.random.normal(mu, sigma, 100)\r\n",
    "\r\n"
   ],
   "outputs": [],
   "metadata": {}
  },
  {
   "cell_type": "code",
   "execution_count": 37,
   "source": [
    "D=list()\r\n",
    "p0=0\r\n",
    "for i in range(1,100):\r\n",
    "    for j in range(100):\r\n",
    "        D[j]=D0*(1+g[j])**j\r\n",
    "    p0=p0+D[i]/((1+r)**i)\r\n",
    "    "
   ],
   "outputs": [
    {
     "output_type": "error",
     "ename": "IndexError",
     "evalue": "list assignment index out of range",
     "traceback": [
      "\u001b[1;31m---------------------------------------------------------------------------\u001b[0m",
      "\u001b[1;31mIndexError\u001b[0m                                Traceback (most recent call last)",
      "\u001b[1;32m<ipython-input-37-55d363e80c3d>\u001b[0m in \u001b[0;36m<module>\u001b[1;34m\u001b[0m\n\u001b[0;32m      3\u001b[0m \u001b[1;32mfor\u001b[0m \u001b[0mi\u001b[0m \u001b[1;32min\u001b[0m \u001b[0mrange\u001b[0m\u001b[1;33m(\u001b[0m\u001b[1;36m100\u001b[0m\u001b[1;33m)\u001b[0m\u001b[1;33m:\u001b[0m\u001b[1;33m\u001b[0m\u001b[1;33m\u001b[0m\u001b[0m\n\u001b[0;32m      4\u001b[0m     \u001b[1;32mfor\u001b[0m \u001b[0mj\u001b[0m \u001b[1;32min\u001b[0m \u001b[0mrange\u001b[0m\u001b[1;33m(\u001b[0m\u001b[1;36m100\u001b[0m\u001b[1;33m)\u001b[0m\u001b[1;33m:\u001b[0m\u001b[1;33m\u001b[0m\u001b[1;33m\u001b[0m\u001b[0m\n\u001b[1;32m----> 5\u001b[1;33m         \u001b[0mD\u001b[0m\u001b[1;33m[\u001b[0m\u001b[0mj\u001b[0m\u001b[1;33m]\u001b[0m\u001b[1;33m=\u001b[0m\u001b[0mD0\u001b[0m\u001b[1;33m*\u001b[0m\u001b[1;33m(\u001b[0m\u001b[1;36m1\u001b[0m\u001b[1;33m+\u001b[0m\u001b[0mg\u001b[0m\u001b[1;33m[\u001b[0m\u001b[0mj\u001b[0m\u001b[1;33m]\u001b[0m\u001b[1;33m)\u001b[0m\u001b[1;33m**\u001b[0m\u001b[0mj\u001b[0m\u001b[1;33m\u001b[0m\u001b[1;33m\u001b[0m\u001b[0m\n\u001b[0m\u001b[0;32m      6\u001b[0m     \u001b[0mp0\u001b[0m\u001b[1;33m=\u001b[0m\u001b[0mp0\u001b[0m\u001b[1;33m+\u001b[0m\u001b[0mD\u001b[0m\u001b[1;33m[\u001b[0m\u001b[0mi\u001b[0m\u001b[1;33m]\u001b[0m\u001b[1;33m/\u001b[0m\u001b[1;33m(\u001b[0m\u001b[1;33m(\u001b[0m\u001b[1;36m1\u001b[0m\u001b[1;33m+\u001b[0m\u001b[0mr\u001b[0m\u001b[1;33m)\u001b[0m\u001b[1;33m**\u001b[0m\u001b[0mi\u001b[0m\u001b[1;33m)\u001b[0m\u001b[1;33m\u001b[0m\u001b[1;33m\u001b[0m\u001b[0m\n",
      "\u001b[1;31mIndexError\u001b[0m: list assignment index out of range"
     ]
    }
   ],
   "metadata": {}
  }
 ],
 "metadata": {
  "orig_nbformat": 4,
  "language_info": {
   "name": "python",
   "version": "3.8.8",
   "mimetype": "text/x-python",
   "codemirror_mode": {
    "name": "ipython",
    "version": 3
   },
   "pygments_lexer": "ipython3",
   "nbconvert_exporter": "python",
   "file_extension": ".py"
  },
  "kernelspec": {
   "name": "python3",
   "display_name": "Python 3.8.8 64-bit ('base': conda)"
  },
  "interpreter": {
   "hash": "e017a947ed1cbd98d6fb4aec7d9beab0ece45773d45accafee45474853a8cce5"
  }
 },
 "nbformat": 4,
 "nbformat_minor": 2
}