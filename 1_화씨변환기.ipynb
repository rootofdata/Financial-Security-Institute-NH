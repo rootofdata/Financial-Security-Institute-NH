{
 "cells": [
  {
   "cell_type": "code",
   "execution_count": 1,
   "source": [
    "#섭씨 화씨 변환기\r\n",
    "print(\"본 프로그램은 섭씨를 화씨로 변환해주는 프로그램이다.\")\r\n",
    "print(\"섭씨온도 입력:\")"
   ],
   "outputs": [
    {
     "output_type": "stream",
     "name": "stdout",
     "text": [
      "본 프로그램은 섭씨를 화씨로 만든다.\n"
     ]
    }
   ],
   "metadata": {}
  },
  {
   "cell_type": "code",
   "execution_count": 8,
   "source": [
    "user_input = input()\r\n",
    "fah=((9/5)*float(user_input))+32\r\n",
    "\r\n",
    "print(\"섭씨:\",user_input)\r\n",
    "print(\"화씨:\",fah)"
   ],
   "outputs": [
    {
     "output_type": "stream",
     "name": "stdout",
     "text": [
      "섭씨: 32\n",
      "화씨: 89.6\n"
     ]
    }
   ],
   "metadata": {}
  },
  {
   "cell_type": "code",
   "execution_count": null,
   "source": [
    "#학점 계산기\r\n",
    "def get_input(score):\r\n",
    "    if score >= 90:\r\n",
    "        grade = 'A'\r\n",
    "    elif score >=80:\r\n",
    "        grade = 'B'\r\n",
    "    elif score >=70:\r\n",
    "        grade = 'C'\r\n",
    "    elif score >=60:\r\n",
    "        grade = 'D'\r\n",
    "    else:grade ='F'\r\n",
    "    return grade"
   ],
   "outputs": [],
   "metadata": {}
  },
  {
   "cell_type": "code",
   "execution_count": null,
   "source": [
    "get_input(100)"
   ],
   "outputs": [],
   "metadata": {}
  },
  {
   "cell_type": "code",
   "execution_count": null,
   "source": [
    "#나이 계산기\r\n",
    "print(\"당신이 태어난 년도를 입력하세요\")\r\n",
    "birth_year  = input()\r\n",
    "age =2021-int(birth_year)+1"
   ],
   "outputs": [],
   "metadata": {}
  },
  {
   "cell_type": "code",
   "execution_count": null,
   "source": [
    "if age<=26 and age >=20:\r\n",
    "    print(\"대학생\")\r\n",
    "elif age < 20 and age >=17:\r\n",
    "    print(\"고등학생\")\r\n",
    "elif age < 17 and age >=14:\r\n",
    "    print(\"중학생\")\r\n",
    "elif age < 14 and age >=8:\r\n",
    "    print(\"초등학생\")\r\n",
    "else:\r\n",
    "    print(\"학생이 아닙니다.\")"
   ],
   "outputs": [],
   "metadata": {}
  },
  {
   "cell_type": "code",
   "execution_count": 1,
   "source": [
    "#구구단 계산\r\n",
    "print(\"구구단 몇 단을 계산할까요?\")\r\n",
    "user_input=input()\r\n",
    "print(\"구구단\"+user_input+\"단을 계산합니다\")\r\n",
    "int_input=int(user_input)\r\n",
    "for i in range(1,10):\r\n",
    "    result=int_input *i\r\n",
    "    print(user_input,\"x\",i,\"=\",result)"
   ],
   "outputs": [
    {
     "output_type": "stream",
     "name": "stdout",
     "text": [
      "구구단 몇 단을 계산할까요?\n",
      "구구단5단을 계산합니다\n"
     ]
    },
    {
     "output_type": "error",
     "ename": "TypeError",
     "evalue": "unsupported operand type(s) for *: 'method' and 'int'",
     "traceback": [
      "\u001b[1;31m---------------------------------------------------------------------------\u001b[0m",
      "\u001b[1;31mTypeError\u001b[0m                                 Traceback (most recent call last)",
      "\u001b[1;32m<ipython-input-1-cbabf7f4e336>\u001b[0m in \u001b[0;36m<module>\u001b[1;34m\u001b[0m\n\u001b[0;32m      5\u001b[0m \u001b[0mint_input\u001b[0m\u001b[1;33m=\u001b[0m\u001b[0mint\u001b[0m\u001b[1;33m(\u001b[0m\u001b[0muser_input\u001b[0m\u001b[1;33m)\u001b[0m\u001b[1;33m\u001b[0m\u001b[1;33m\u001b[0m\u001b[0m\n\u001b[0;32m      6\u001b[0m \u001b[1;32mfor\u001b[0m \u001b[0mi\u001b[0m \u001b[1;32min\u001b[0m \u001b[0mrange\u001b[0m\u001b[1;33m(\u001b[0m\u001b[1;36m1\u001b[0m\u001b[1;33m,\u001b[0m\u001b[1;36m10\u001b[0m\u001b[1;33m)\u001b[0m\u001b[1;33m:\u001b[0m\u001b[1;33m\u001b[0m\u001b[1;33m\u001b[0m\u001b[0m\n\u001b[1;32m----> 7\u001b[1;33m     \u001b[0mresult\u001b[0m\u001b[1;33m=\u001b[0m\u001b[0minput\u001b[0m \u001b[1;33m*\u001b[0m\u001b[0mi\u001b[0m\u001b[1;33m\u001b[0m\u001b[1;33m\u001b[0m\u001b[0m\n\u001b[0m\u001b[0;32m      8\u001b[0m     \u001b[0mprint\u001b[0m\u001b[1;33m(\u001b[0m\u001b[0muser_input\u001b[0m\u001b[1;33m,\u001b[0m\u001b[1;34m\"x\"\u001b[0m\u001b[1;33m,\u001b[0m\u001b[0mi\u001b[0m\u001b[1;33m,\u001b[0m\u001b[1;34m\"=\"\u001b[0m\u001b[1;33m,\u001b[0m\u001b[0mresult\u001b[0m\u001b[1;33m)\u001b[0m\u001b[1;33m\u001b[0m\u001b[1;33m\u001b[0m\u001b[0m\n",
      "\u001b[1;31mTypeError\u001b[0m: unsupported operand type(s) for *: 'method' and 'int'"
     ]
    }
   ],
   "metadata": {}
  }
 ],
 "metadata": {
  "orig_nbformat": 4,
  "language_info": {
   "name": "python",
   "version": "3.8.8",
   "mimetype": "text/x-python",
   "codemirror_mode": {
    "name": "ipython",
    "version": 3
   },
   "pygments_lexer": "ipython3",
   "nbconvert_exporter": "python",
   "file_extension": ".py"
  },
  "kernelspec": {
   "name": "python3",
   "display_name": "Python 3.8.8 64-bit ('base': conda)"
  },
  "interpreter": {
   "hash": "e017a947ed1cbd98d6fb4aec7d9beab0ece45773d45accafee45474853a8cce5"
  }
 },
 "nbformat": 4,
 "nbformat_minor": 2
}