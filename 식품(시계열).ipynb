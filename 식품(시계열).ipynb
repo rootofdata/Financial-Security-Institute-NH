{
 "cells": [
  {
   "cell_type": "code",
   "execution_count": 3,
   "source": [
    "import pandas as pd\r\n",
    "import numpy as np\r\n",
    "from pandas import Series, DataFrame\r\n",
    "import seaborn as sns\r\n",
    "import matplotlib.pyplot as plt\r\n",
    "import matplotlib as mpl\r\n",
    "import matplotlib.font_manager as fm\r\n",
    "import os"
   ],
   "outputs": [],
   "metadata": {}
  },
  {
   "cell_type": "code",
   "execution_count": 13,
   "source": [
    "#글씨설정\r\n",
    "plt.rc(\"font\",family=\"Malgun Gothic\")\r\n",
    "sns.set(font=\"Margun Gothic\",rc={\"axes.unicode_minus\":False},style='darkgrid')\r\n",
    "mpl.rc('font',family='Malgun Gothic')\r\n",
    "plt.rcParams['axes.unicode_minus']=False\r\n",
    "\r\n",
    "#맷플롯립 한글 설정\r\n",
    "font_path = r'C:\\Users\\dudtj\\OneDrive\\Desktop\\금융데이터\\NanumFontSetup_TTF_ALL'\r\n",
    "fontprop = fm.FontProperties(fname=font_path, size=18)"
   ],
   "outputs": [],
   "metadata": {}
  },
  {
   "cell_type": "code",
   "execution_count": 14,
   "source": [
    "#matplotlib 패키지 한글 깨짐 처리 시작\r\n",
    "import matplotlib.pyplot as plt\r\n",
    "import platform\r\n",
    "if platform.system() == 'Darwin': #맥\r\n",
    "        plt.rc('font', family='AppleGothic') \r\n",
    "elif platform.system() == 'Windows': #윈도우\r\n",
    "        plt.rc('font', family='Malgun Gothic') \r\n",
    "elif platform.system() == 'Linux': #리눅스 (구글 콜랩)\r\n",
    "        #!wget \"https://www.wfonts.com/download/data/2016/06/13/malgun-gothic/malgun.ttf\"\r\n",
    "        #!mv malgun.ttf /usr/share/fonts/truetype/\r\n",
    "        #import matplotlib.font_manager as fm \r\n",
    "        #fm._rebuild() \r\n",
    "        plt.rc('font', family='Malgun Gothic') \r\n",
    "plt.rcParams['axes.unicode_minus'] = False #한글 폰트 사용시 마이너스 폰트 깨짐 해결\r\n",
    "#matplotlib 패키지 한글 깨짐 처리 끝"
   ],
   "outputs": [],
   "metadata": {}
  },
  {
   "cell_type": "code",
   "execution_count": 15,
   "source": [
    "data1 = pd.read_csv(r'C:\\Users\\dudtj\\OneDrive\\Desktop\\python\\금융데이터\\금융보안원_경진대회_데이터(최종제출)1.csv',encoding='euc-kr')"
   ],
   "outputs": [],
   "metadata": {}
  },
  {
   "cell_type": "code",
   "execution_count": 16,
   "source": [
    "#매출금액 단위 만원으로 변환 \r\n",
    "data1['매출금액'] = data1['매출금액']/10000\r\n",
    "data1.rename(columns={'매출금액' : '매출금액(단위:만원)'}, inplace=True)\r\n",
    "#매출 건수 한 건당 매출금액 컬럼 추가\r\n",
    "data1['건당 매출금액(단위:만원)'] = data1['매출금액(단위:만원)']/data1['매출건수']"
   ],
   "outputs": [],
   "metadata": {}
  },
  {
   "cell_type": "code",
   "execution_count": 17,
   "source": [
    "df=pd.DataFrame(data1)\r\n",
    "data_t=df[(df.품목대분류명 =='여가/스포츠')|(df.품목대분류명 =='전자')|(df.품목대분류명 =='식품')|(df.품목대분류명 =='e상품/서비스')]"
   ],
   "outputs": [],
   "metadata": {}
  },
  {
   "cell_type": "code",
   "execution_count": null,
   "source": [],
   "outputs": [],
   "metadata": {}
  },
  {
   "cell_type": "code",
   "execution_count": 19,
   "source": [
    "path = 'C:/Users/dudtj/OneDrive/Desktop/python/금융데이터/KRX 엑셀문서/전종목 등락률/'\r\n",
    "file_list = os.listdir(path)\r\n",
    "file_list_py = [file for file in file_list if file.endswith('.csv')]\r\n",
    "\r\n",
    "df = pd.DataFrame()\r\n",
    "Timeindex = pd.date_range('9/1/2018', periods= len(file_list_py), freq = 'M')\r\n",
    "for i, time in zip(file_list_py,Timeindex):\r\n",
    "    data = pd.read_csv(path + i, encoding= 'cp949')\r\n",
    "    data_df = pd.DataFrame(data)\r\n",
    "    data_df['기준년월'] = time\r\n",
    "    df = pd.concat([df, data])\r\n",
    " \r\n",
    "df_UD = df.reset_index(drop=True)"
   ],
   "outputs": [],
   "metadata": {}
  }
 ],
 "metadata": {
  "orig_nbformat": 4,
  "language_info": {
   "name": "python",
   "version": "3.8.8",
   "mimetype": "text/x-python",
   "codemirror_mode": {
    "name": "ipython",
    "version": 3
   },
   "pygments_lexer": "ipython3",
   "nbconvert_exporter": "python",
   "file_extension": ".py"
  },
  "kernelspec": {
   "name": "python3",
   "display_name": "Python 3.8.8 64-bit ('base': conda)"
  },
  "interpreter": {
   "hash": "e017a947ed1cbd98d6fb4aec7d9beab0ece45773d45accafee45474853a8cce5"
  }
 },
 "nbformat": 4,
 "nbformat_minor": 2
}